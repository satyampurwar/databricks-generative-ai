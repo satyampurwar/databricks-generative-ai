{
 "cells": [
  {
   "cell_type": "markdown",
   "metadata": {
    "application/vnd.databricks.v1+cell": {
     "cellMetadata": {
      "byteLimit": 2048000,
      "rowLimit": 10000
     },
     "inputWidgets": {},
     "nuid": "4bcb2695-6797-4a5a-9318-9273cad458dc",
     "showTitle": false,
     "tableResultSettingsMap": {},
     "title": ""
    }
   },
   "source": [
    "# Introduction\n",
    "This notebook is designed to install the OpenAI Python client library and ensure that all libraries are reloaded by restarting the Python process. The OpenAI library will be used for interacting with OpenAI's API, which provides access to various AI models and functionalities. This is an example of a Databricks serving endpoint for text generation."
   ]
  },
  {
   "cell_type": "code",
   "execution_count": 0,
   "metadata": {
    "application/vnd.databricks.v1+cell": {
     "cellMetadata": {
      "byteLimit": 2048000,
      "rowLimit": 10000
     },
     "inputWidgets": {},
     "nuid": "591245b5-029c-4a59-b7f6-db4a042248a1",
     "showTitle": false,
     "tableResultSettingsMap": {},
     "title": ""
    }
   },
   "outputs": [],
   "source": [
    "# Install the OpenAI Python client library quietly (no output shown)\n",
    "%pip install -q openai"
   ]
  },
  {
   "cell_type": "code",
   "execution_count": 0,
   "metadata": {
    "application/vnd.databricks.v1+cell": {
     "cellMetadata": {
      "byteLimit": 2048000,
      "rowLimit": 10000
     },
     "inputWidgets": {},
     "nuid": "8721fdde-4354-4294-b95c-b86ad63d226d",
     "showTitle": false,
     "tableResultSettingsMap": {},
     "title": ""
    }
   },
   "outputs": [],
   "source": [
    "# Restart the Python process for the current notebook to ensure that all libraries are reloaded.\n",
    "dbutils.library.restartPython()"
   ]
  },
  {
   "cell_type": "code",
   "execution_count": 0,
   "metadata": {
    "application/vnd.databricks.v1+cell": {
     "cellMetadata": {
      "byteLimit": 2048000,
      "rowLimit": 10000
     },
     "inputWidgets": {},
     "nuid": "6bf9ec4f-d722-41f4-8b20-3717628662d5",
     "showTitle": false,
     "tableResultSettingsMap": {},
     "title": ""
    }
   },
   "outputs": [],
   "source": [
    "from openai import OpenAI\n",
    "import os\n",
    "\n",
    "# How to get your Databricks token: https://docs.databricks.com/en/dev-tools/auth/pat.html\n",
    "# DATABRICKS_TOKEN = os.environ.get('DATABRICKS_TOKEN')\n",
    "DATABRICKS_TOKEN = 'XXXXXXXXXX'\n",
    "# Alternatively in a Databricks notebook you can use this:\n",
    "# DATABRICKS_TOKEN = dbutils.notebook.entry_point.getDbutils().notebook().getContext().apiToken().get()\n",
    "\n",
    "# Initialize the OpenAI client with the Databricks token and base URL for the serving endpoint\n",
    "client = OpenAI(\n",
    "    api_key=DATABRICKS_TOKEN,\n",
    "    base_url=\"https://dbc-XXXXXX.cloud.databricks.com/serving-endpoints\"\n",
    ")\n",
    "\n",
    "# Create a chat completion request to the OpenAI API using the specified model and message\n",
    "response = client.chat.completions.create(\n",
    "    model=\"databricks-llama-4-maverick\",\n",
    "    messages=[\n",
    "        {\n",
    "            \"role\": \"user\",\n",
    "            \"content\": \"Walk me through how an LLM agent might plan a multi-step task, such as booking a vacation with multiple constraints.\"\n",
    "        }\n",
    "    ]\n",
    ")\n",
    "\n",
    "# Print the content of the response message from the API\n",
    "print(response.choices[0].message.content)"
   ]
  }
 ],
 "metadata": {
  "application/vnd.databricks.v1+notebook": {
   "computePreferences": null,
   "dashboards": [],
   "environmentMetadata": {
    "base_environment": "",
    "environment_version": "2"
   },
   "inputWidgetPreferences": null,
   "language": "python",
   "notebookMetadata": {
    "pythonIndentUnit": 4
   },
   "notebookName": "model_serving_endpoint",
   "widgets": {}
  },
  "language_info": {
   "name": "python"
  }
 },
 "nbformat": 4,
 "nbformat_minor": 0
}
